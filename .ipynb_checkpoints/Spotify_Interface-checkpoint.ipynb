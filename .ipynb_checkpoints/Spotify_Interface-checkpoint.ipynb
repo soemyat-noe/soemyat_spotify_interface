{
 "cells": [
  {
   "cell_type": "code",
   "execution_count": 19,
   "id": "720c65aa-9150-4ec3-8982-421aae0f0d3d",
   "metadata": {},
   "outputs": [],
   "source": [
    "import spotipy\n",
    "import json\n",
    "import webbrowser\n",
    "import urllib.request\n",
    "import spotipy.util as util"
   ]
  },
  {
   "cell_type": "code",
   "execution_count": 20,
   "id": "bbb94550-1010-4419-b6d6-aef15ebf9e7f",
   "metadata": {},
   "outputs": [
    {
     "name": "stdout",
     "output_type": "stream",
     "text": [
      "8b86b454f22f4210be0142556242910\n"
     ]
    }
   ],
   "source": [
    "with open('weather_key.txt','r') as weather_file:\n",
    "    weather_key = weather_file.read()\n",
    "\n",
    "print(weather_key)"
   ]
  },
  {
   "cell_type": "code",
   "execution_count": 21,
   "id": "b2d235bf-c6de-4d7f-a7d8-e77df22e9cc9",
   "metadata": {},
   "outputs": [],
   "source": [
    "url = f\"http://api.weatherapi.com/v1/current.json?key=8b86b454f22f4210be0142556242910&q=London&aqi=no\""
   ]
  },
  {
   "cell_type": "code",
   "execution_count": 22,
   "id": "9dcdf29e-80cb-4994-9bfc-5055e455e36a",
   "metadata": {},
   "outputs": [],
   "source": [
    "request= urllib.request.Request(url)\n",
    "response = urllib.request.urlopen(request)"
   ]
  },
  {
   "cell_type": "code",
   "execution_count": 23,
   "id": "36574496-b514-47b5-bba0-7e434e4e2acb",
   "metadata": {},
   "outputs": [
    {
     "name": "stdout",
     "output_type": "stream",
     "text": [
      "<http.client.HTTPResponse object at 0x000001DB62D7BD30>\n"
     ]
    }
   ],
   "source": [
    "print(response)"
   ]
  },
  {
   "cell_type": "code",
   "execution_count": 24,
   "id": "c3deed23-11db-4407-bcef-e581bf0b3c2a",
   "metadata": {},
   "outputs": [
    {
     "name": "stdout",
     "output_type": "stream",
     "text": [
      "{'location': {'name': 'London', 'region': 'City of London, Greater London', 'country': 'United Kingdom', 'lat': 51.5171, 'lon': -0.1062, 'tz_id': 'Europe/London', 'localtime_epoch': 1730215811, 'localtime': '2024-10-29 15:30'}, 'current': {'last_updated_epoch': 1730214900, 'last_updated': '2024-10-29 15:15', 'temp_c': 15.1, 'temp_f': 59.2, 'is_day': 1, 'condition': {'text': 'Overcast', 'icon': '//cdn.weatherapi.com/weather/64x64/day/122.png', 'code': 1009}, 'wind_mph': 3.1, 'wind_kph': 5.0, 'wind_degree': 259, 'wind_dir': 'W', 'pressure_mb': 1024.0, 'pressure_in': 30.24, 'precip_mm': 0.0, 'precip_in': 0.0, 'humidity': 82, 'cloud': 50, 'feelslike_c': 15.1, 'feelslike_f': 59.2, 'windchill_c': 15.1, 'windchill_f': 59.1, 'heatindex_c': 14.7, 'heatindex_f': 58.4, 'dewpoint_c': 10.0, 'dewpoint_f': 50.0, 'vis_km': 10.0, 'vis_miles': 6.0, 'uv': 0.5, 'gust_mph': 4.9, 'gust_kph': 8.0}}\n"
     ]
    }
   ],
   "source": [
    "weather_json = json.loads(response.read())\n",
    "print(weather_json)"
   ]
  },
  {
   "cell_type": "code",
   "execution_count": 27,
   "id": "008cbce5-60a7-4b66-b2e3-bd41f455bd22",
   "metadata": {},
   "outputs": [
    {
     "name": "stdout",
     "output_type": "stream",
     "text": [
      "Overcast\n"
     ]
    }
   ],
   "source": [
    "forecast = weather_json['current']['condition']['text']\n",
    "print(forecast)"
   ]
  },
  {
   "cell_type": "code",
   "execution_count": null,
   "id": "330333f3-c202-4c3e-8908-c0024997df94",
   "metadata": {},
   "outputs": [],
   "source": []
  },
  {
   "cell_type": "code",
   "execution_count": null,
   "id": "47b830e6-7db8-4c83-af67-a190d29f9c35",
   "metadata": {},
   "outputs": [],
   "source": []
  }
 ],
 "metadata": {
  "kernelspec": {
   "display_name": "Python 3 (ipykernel)",
   "language": "python",
   "name": "python3"
  },
  "language_info": {
   "codemirror_mode": {
    "name": "ipython",
    "version": 3
   },
   "file_extension": ".py",
   "mimetype": "text/x-python",
   "name": "python",
   "nbconvert_exporter": "python",
   "pygments_lexer": "ipython3",
   "version": "3.12.7"
  }
 },
 "nbformat": 4,
 "nbformat_minor": 5
}
