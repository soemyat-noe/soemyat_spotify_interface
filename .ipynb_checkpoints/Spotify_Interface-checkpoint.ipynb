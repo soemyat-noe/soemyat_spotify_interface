{
 "cells": [
  {
   "cell_type": "code",
   "execution_count": 122,
   "id": "720c65aa-9150-4ec3-8982-421aae0f0d3d",
   "metadata": {},
   "outputs": [],
   "source": [
    "import spotipy\n",
    "import json\n",
    "import webbrowser\n",
    "import urllib.request\n",
    "import spotipy.util as util"
   ]
  },
  {
   "cell_type": "code",
   "execution_count": 123,
   "id": "bbb94550-1010-4419-b6d6-aef15ebf9e7f",
   "metadata": {},
   "outputs": [
    {
     "name": "stdout",
     "output_type": "stream",
     "text": [
      "8b86b454f22f4210be0142556242910\n"
     ]
    }
   ],
   "source": [
    "with open('weather_key.txt','r') as weather_file:\n",
    "    weather_key = weather_file.read()\n",
    "\n",
    "print(weather_key)"
   ]
  },
  {
   "cell_type": "code",
   "execution_count": 124,
   "id": "b2d235bf-c6de-4d7f-a7d8-e77df22e9cc9",
   "metadata": {},
   "outputs": [],
   "source": [
    "url = f\"http://api.weatherapi.com/v1/current.json?key=8b86b454f22f4210be0142556242910&q=London&aqi=no\""
   ]
  },
  {
   "cell_type": "code",
   "execution_count": 125,
   "id": "9dcdf29e-80cb-4994-9bfc-5055e455e36a",
   "metadata": {},
   "outputs": [],
   "source": [
    "request= urllib.request.Request(url)\n",
    "response = urllib.request.urlopen(request)"
   ]
  },
  {
   "cell_type": "code",
   "execution_count": 126,
   "id": "36574496-b514-47b5-bba0-7e434e4e2acb",
   "metadata": {},
   "outputs": [
    {
     "name": "stdout",
     "output_type": "stream",
     "text": [
      "<http.client.HTTPResponse object at 0x000001DB62B0B400>\n"
     ]
    }
   ],
   "source": [
    "print(response)"
   ]
  },
  {
   "cell_type": "code",
   "execution_count": 127,
   "id": "c3deed23-11db-4407-bcef-e581bf0b3c2a",
   "metadata": {},
   "outputs": [
    {
     "name": "stdout",
     "output_type": "stream",
     "text": [
      "{'location': {'name': 'London', 'region': 'City of London, Greater London', 'country': 'United Kingdom', 'lat': 51.5171, 'lon': -0.1062, 'tz_id': 'Europe/London', 'localtime_epoch': 1730219829, 'localtime': '2024-10-29 16:37'}, 'current': {'last_updated_epoch': 1730219400, 'last_updated': '2024-10-29 16:30', 'temp_c': 14.1, 'temp_f': 57.4, 'is_day': 1, 'condition': {'text': 'Overcast', 'icon': '//cdn.weatherapi.com/weather/64x64/day/122.png', 'code': 1009}, 'wind_mph': 3.4, 'wind_kph': 5.4, 'wind_degree': 271, 'wind_dir': 'W', 'pressure_mb': 1025.0, 'pressure_in': 30.27, 'precip_mm': 0.0, 'precip_in': 0.0, 'humidity': 88, 'cloud': 100, 'feelslike_c': 14.3, 'feelslike_f': 57.8, 'windchill_c': 14.7, 'windchill_f': 58.4, 'heatindex_c': 14.4, 'heatindex_f': 58.0, 'dewpoint_c': 10.0, 'dewpoint_f': 50.1, 'vis_km': 10.0, 'vis_miles': 6.0, 'uv': 0.1, 'gust_mph': 5.5, 'gust_kph': 8.9}}\n"
     ]
    }
   ],
   "source": [
    "weather_json = json.loads(response.read())\n",
    "print(weather_json)"
   ]
  },
  {
   "cell_type": "code",
   "execution_count": 128,
   "id": "008cbce5-60a7-4b66-b2e3-bd41f455bd22",
   "metadata": {},
   "outputs": [
    {
     "name": "stdout",
     "output_type": "stream",
     "text": [
      "Overcast\n"
     ]
    }
   ],
   "source": [
    "forecast = weather_json['current']['condition']['text']\n",
    "print(forecast)"
   ]
  },
  {
   "cell_type": "code",
   "execution_count": 129,
   "id": "47b830e6-7db8-4c83-af67-a190d29f9c35",
   "metadata": {},
   "outputs": [],
   "source": [
    "with open('spotify_keys.json', 'r') as spotify_file:\n",
    "    tokens = json.load(spotify_file)"
   ]
  },
  {
   "cell_type": "code",
   "execution_count": 130,
   "id": "47d5b017-954e-4383-9381-6e2057ecd7b6",
   "metadata": {},
   "outputs": [],
   "source": [
    "my_client_id = tokens['client_id']\n",
    "my_client_secret = tokens['client_secret']\n",
    "redirectURI = tokens['redirect']\n",
    "username = tokens['username']"
   ]
  },
  {
   "cell_type": "code",
   "execution_count": 132,
   "id": "96b95bf9-f761-4e57-a4ef-51a170ef29b9",
   "metadata": {},
   "outputs": [],
   "source": [
    "scope= 'user-read-private user-read-playback-state user-modify-playback-state playlist-modify-public'\n",
    "token = util.prompt_for_user_token(username, scope, client_id=my_client_id, client_secret=my_client_secret, redirect_uri=redirectURI)"
   ]
  },
  {
   "cell_type": "code",
   "execution_count": 133,
   "id": "937e2468-be21-4df2-996e-07f8c35f48b3",
   "metadata": {},
   "outputs": [],
   "source": [
    "sp = spotipy.Spotify(auth=token)"
   ]
  },
  {
   "cell_type": "code",
   "execution_count": 134,
   "id": "9aded69c-7e3c-43ec-a486-f02983ddf9e1",
   "metadata": {},
   "outputs": [
    {
     "name": "stdout",
     "output_type": "stream",
     "text": [
      "{'devices': [{'id': 'a12cb1712c6d8dbe182106535f96c0c982e20c5a', 'is_active': False, 'is_private_session': False, 'is_restricted': False, 'name': 'SOE-MYAT', 'supports_volume': True, 'type': 'Computer', 'volume_percent': 100}, {'id': '8a7344fa44b2b5691c05850422724f0dfcaa0f22', 'is_active': False, 'is_private_session': False, 'is_restricted': False, 'name': 'Web Player (Chrome)', 'supports_volume': True, 'type': 'Computer', 'volume_percent': 100}]}\n"
     ]
    }
   ],
   "source": [
    "devices = sp.devices()\n",
    "print(devices)"
   ]
  },
  {
   "cell_type": "code",
   "execution_count": 135,
   "id": "08115c00-2c31-4174-b352-4774f9b2678e",
   "metadata": {},
   "outputs": [],
   "source": [
    "track_results = sp.search(q=forecast, type='track', limit=50)"
   ]
  },
  {
   "cell_type": "code",
   "execution_count": 136,
   "id": "90a57263-65b4-4c42-b526-2dee8619198f",
   "metadata": {},
   "outputs": [],
   "source": [
    "song_data = track_results['tracks']['items']"
   ]
  },
  {
   "cell_type": "code",
   "execution_count": 137,
   "id": "a5712670-a3d7-41c1-9c1c-f0d2a1c27487",
   "metadata": {},
   "outputs": [
    {
     "name": "stdout",
     "output_type": "stream",
     "text": [
      "{'album': {'album_type': 'single', 'artists': [{'external_urls': {'spotify': 'https://open.spotify.com/artist/28tXBU4l2IBbvWENwwNb7P'}, 'href': 'https://api.spotify.com/v1/artists/28tXBU4l2IBbvWENwwNb7P', 'id': '28tXBU4l2IBbvWENwwNb7P', 'name': 'The Schwacksters', 'type': 'artist', 'uri': 'spotify:artist:28tXBU4l2IBbvWENwwNb7P'}], 'available_markets': ['AR', 'AU', 'AT', 'BE', 'BO', 'BR', 'BG', 'CA', 'CL', 'CO', 'CR', 'CY', 'CZ', 'DK', 'DO', 'DE', 'EC', 'EE', 'SV', 'FI', 'FR', 'GR', 'GT', 'HN', 'HK', 'HU', 'IS', 'IE', 'IT', 'LV', 'LT', 'LU', 'MY', 'MT', 'MX', 'NL', 'NZ', 'NI', 'NO', 'PA', 'PY', 'PE', 'PH', 'PL', 'PT', 'SG', 'SK', 'ES', 'SE', 'CH', 'TW', 'TR', 'UY', 'US', 'GB', 'AD', 'LI', 'MC', 'ID', 'JP', 'TH', 'VN', 'RO', 'IL', 'ZA', 'SA', 'AE', 'BH', 'QA', 'OM', 'KW', 'EG', 'MA', 'DZ', 'TN', 'LB', 'JO', 'PS', 'IN', 'BY', 'KZ', 'MD', 'UA', 'AL', 'BA', 'HR', 'ME', 'MK', 'RS', 'SI', 'KR', 'BD', 'PK', 'LK', 'GH', 'KE', 'NG', 'TZ', 'UG', 'AG', 'AM', 'BS', 'BB', 'BZ', 'BT', 'BW', 'BF', 'CV', 'CW', 'DM', 'FJ', 'GM', 'GE', 'GD', 'GW', 'GY', 'HT', 'JM', 'KI', 'LS', 'LR', 'MW', 'MV', 'ML', 'MH', 'FM', 'NA', 'NR', 'NE', 'PW', 'PG', 'PR', 'WS', 'SM', 'ST', 'SN', 'SC', 'SL', 'SB', 'KN', 'LC', 'VC', 'SR', 'TL', 'TO', 'TT', 'TV', 'VU', 'AZ', 'BN', 'BI', 'KH', 'CM', 'TD', 'KM', 'GQ', 'SZ', 'GA', 'GN', 'KG', 'LA', 'MO', 'MR', 'MN', 'NP', 'RW', 'TG', 'UZ', 'ZW', 'BJ', 'MG', 'MU', 'MZ', 'AO', 'CI', 'DJ', 'ZM', 'CD', 'CG', 'IQ', 'LY', 'TJ', 'VE', 'ET', 'XK'], 'external_urls': {'spotify': 'https://open.spotify.com/album/4s4A7QN542rjtuDSp7pxEi'}, 'href': 'https://api.spotify.com/v1/albums/4s4A7QN542rjtuDSp7pxEi', 'id': '4s4A7QN542rjtuDSp7pxEi', 'images': [{'height': 640, 'url': 'https://i.scdn.co/image/ab67616d0000b273f511f2302ada452a85a235be', 'width': 640}, {'height': 300, 'url': 'https://i.scdn.co/image/ab67616d00001e02f511f2302ada452a85a235be', 'width': 300}, {'height': 64, 'url': 'https://i.scdn.co/image/ab67616d00004851f511f2302ada452a85a235be', 'width': 64}], 'name': 'Overcast', 'release_date': '2024-09-21', 'release_date_precision': 'day', 'total_tracks': 1, 'type': 'album', 'uri': 'spotify:album:4s4A7QN542rjtuDSp7pxEi'}, 'artists': [{'external_urls': {'spotify': 'https://open.spotify.com/artist/28tXBU4l2IBbvWENwwNb7P'}, 'href': 'https://api.spotify.com/v1/artists/28tXBU4l2IBbvWENwwNb7P', 'id': '28tXBU4l2IBbvWENwwNb7P', 'name': 'The Schwacksters', 'type': 'artist', 'uri': 'spotify:artist:28tXBU4l2IBbvWENwwNb7P'}], 'available_markets': ['AR', 'AU', 'AT', 'BE', 'BO', 'BR', 'BG', 'CA', 'CL', 'CO', 'CR', 'CY', 'CZ', 'DK', 'DO', 'DE', 'EC', 'EE', 'SV', 'FI', 'FR', 'GR', 'GT', 'HN', 'HK', 'HU', 'IS', 'IE', 'IT', 'LV', 'LT', 'LU', 'MY', 'MT', 'MX', 'NL', 'NZ', 'NI', 'NO', 'PA', 'PY', 'PE', 'PH', 'PL', 'PT', 'SG', 'SK', 'ES', 'SE', 'CH', 'TW', 'TR', 'UY', 'US', 'GB', 'AD', 'LI', 'MC', 'ID', 'JP', 'TH', 'VN', 'RO', 'IL', 'ZA', 'SA', 'AE', 'BH', 'QA', 'OM', 'KW', 'EG', 'MA', 'DZ', 'TN', 'LB', 'JO', 'PS', 'IN', 'BY', 'KZ', 'MD', 'UA', 'AL', 'BA', 'HR', 'ME', 'MK', 'RS', 'SI', 'KR', 'BD', 'PK', 'LK', 'GH', 'KE', 'NG', 'TZ', 'UG', 'AG', 'AM', 'BS', 'BB', 'BZ', 'BT', 'BW', 'BF', 'CV', 'CW', 'DM', 'FJ', 'GM', 'GE', 'GD', 'GW', 'GY', 'HT', 'JM', 'KI', 'LS', 'LR', 'MW', 'MV', 'ML', 'MH', 'FM', 'NA', 'NR', 'NE', 'PW', 'PG', 'PR', 'WS', 'SM', 'ST', 'SN', 'SC', 'SL', 'SB', 'KN', 'LC', 'VC', 'SR', 'TL', 'TO', 'TT', 'TV', 'VU', 'AZ', 'BN', 'BI', 'KH', 'CM', 'TD', 'KM', 'GQ', 'SZ', 'GA', 'GN', 'KG', 'LA', 'MO', 'MR', 'MN', 'NP', 'RW', 'TG', 'UZ', 'ZW', 'BJ', 'MG', 'MU', 'MZ', 'AO', 'CI', 'DJ', 'ZM', 'CD', 'CG', 'IQ', 'LY', 'TJ', 'VE', 'ET', 'XK'], 'disc_number': 1, 'duration_ms': 256928, 'explicit': False, 'external_ids': {'isrc': 'QZTBD2464563'}, 'external_urls': {'spotify': 'https://open.spotify.com/track/0nkrBnZNJtO6uwdd1tCLS9'}, 'href': 'https://api.spotify.com/v1/tracks/0nkrBnZNJtO6uwdd1tCLS9', 'id': '0nkrBnZNJtO6uwdd1tCLS9', 'is_local': False, 'name': 'Overcast', 'popularity': 18, 'preview_url': 'https://p.scdn.co/mp3-preview/081cd59db66261d0573fb849d522d9c8cc41d957?cid=70cdbcf9ddb149c8aacc5353daa89808', 'track_number': 1, 'type': 'track', 'uri': 'spotify:track:0nkrBnZNJtO6uwdd1tCLS9'}\n"
     ]
    }
   ],
   "source": [
    "print(song_data[10])"
   ]
  },
  {
   "cell_type": "code",
   "execution_count": 138,
   "id": "27c8006f-309f-4de3-8491-798be6f450d5",
   "metadata": {},
   "outputs": [
    {
     "name": "stdout",
     "output_type": "stream",
     "text": [
      "['spotify:track:4JMB7StRYhP9YWrABz5mvv', 'spotify:track:4zWTya8tPMuoyDiJOLq5Vr', 'spotify:track:5cYbYemspYYx4VxdTsvKYO', 'spotify:track:5ACLrTERL7b7JQd2ZTfMjz', 'spotify:track:1FbHpjJjWGwH0pYl9XFiSS', 'spotify:track:5nhKTXNuUK9gYaHIfGRSdC', 'spotify:track:2e6RYZToDNxzu9LbqiZ9sg', 'spotify:track:35xWgCIhFfnTT0FDLdbaZ1', 'spotify:track:386Y2BhIiL8qvQihX80F3V', 'spotify:track:2n2a7CG0rgXadwWtVXN21F', 'spotify:track:0nkrBnZNJtO6uwdd1tCLS9', 'spotify:track:4Rg2G268G0g5macAixi0ni', 'spotify:track:5tFB3DmcBnS6st75jFQlWB', 'spotify:track:5tvwVu70JA7E2yePrmZGRc', 'spotify:track:36eCXw0b8seSZl4KtZ2AzJ', 'spotify:track:1DB7sjKLuzCoIlSeRulE4Q', 'spotify:track:0HRMPRU3I85I9fdecngu3u', 'spotify:track:1C3uKuptOmuXJqqzuZ6S1V', 'spotify:track:0WOcJN6rOAsgAFTbnCze4J', 'spotify:track:3nHrPC7I2S0nsBT2nzGJSA', 'spotify:track:5GHeGKTmtXnLcgoT7BJ9Dz', 'spotify:track:1oJvrgdil8qHvqF543Upqd', 'spotify:track:6eT4PDHm2UNjOQDH86THOg', 'spotify:track:0ky21NS98VPCfAcd6xg7Cc', 'spotify:track:3nyhumqc6usMA1R2XH9UK6', 'spotify:track:37aUEdbDjLJtct2sbPRYva', 'spotify:track:0UdssF0wBtkGmbTvCCEQFZ', 'spotify:track:3e7ATpok76UbrHG0tAWoWd', 'spotify:track:0M4PcNyGDLhemL0Ro5NeFp', 'spotify:track:1Ny8RoE9nPqyM3xfMjwR81', 'spotify:track:59tf1vcYBxwJojkhmKR1Im', 'spotify:track:4geJYumRsMrAChwuSWa5yR', 'spotify:track:5Ko02ldO65NmVX9GBCU2uV', 'spotify:track:0ITvwZjKGEKwiw2w6t0Rco', 'spotify:track:0wEGo9LsSrSUz9HOtraWAO', 'spotify:track:10ZZqCt5vg6Bwy5c21OG2z', 'spotify:track:1LAlLBTGBUO0MDA8IbSysd', 'spotify:track:6ShMhtk1om88amkkiUrpS9', 'spotify:track:6ujJmSj0ArAHKrhLwsirGh', 'spotify:track:5AKUFr4GmY4VSIX54hyDi9', 'spotify:track:7i2ZntdYyNmcGnptw8Dhbw', 'spotify:track:5fxtzPvQC8L81kEet9owJu', 'spotify:track:5ffdNfKHJqtFQofaL8fLCa', 'spotify:track:7kcApwUclbIw9B6MuVmqPc', 'spotify:track:38LydFo7ocsTU2d7Me5j8t', 'spotify:track:5b45GXKaxTKKKxAY5QOyvY', 'spotify:track:5wI0QDFwHttWMZhIZVdHH1', 'spotify:track:65NDRsNTjKcfWVhqdPJIx9', 'spotify:track:2kPqnlLuVVaGT6xTWVhMtm', 'spotify:track:6u9YLc23CTUnGVzKNj65ou']\n"
     ]
    }
   ],
   "source": [
    "song_uris = []\n",
    "for song in song_data:\n",
    "    song_uris.append(song['uri'])\n",
    "print(song_uris)"
   ]
  },
  {
   "cell_type": "code",
   "execution_count": 139,
   "id": "70c6fffc-a4c6-45e6-ac97-c92dcdca7cb2",
   "metadata": {},
   "outputs": [],
   "source": [
    "my_playlist = sp.user_playlist_create(user=username, name=forecast, public=True, description=\"songs for the weather\")"
   ]
  },
  {
   "cell_type": "code",
   "execution_count": 140,
   "id": "967fc090-3be4-4242-b9bd-848bd4682f69",
   "metadata": {},
   "outputs": [
    {
     "name": "stdout",
     "output_type": "stream",
     "text": [
      "{'collaborative': False, 'description': 'songs for the weather', 'external_urls': {'spotify': 'https://open.spotify.com/playlist/1o8t3vf79egbIgyXzct3kM'}, 'followers': {'href': None, 'total': 0}, 'href': 'https://api.spotify.com/v1/playlists/1o8t3vf79egbIgyXzct3kM', 'id': '1o8t3vf79egbIgyXzct3kM', 'images': [], 'primary_color': None, 'name': 'Overcast', 'type': 'playlist', 'uri': 'spotify:playlist:1o8t3vf79egbIgyXzct3kM', 'owner': {'href': 'https://api.spotify.com/v1/users/31uyanxdk2sgpylbv7m36uvznwm4', 'id': '31uyanxdk2sgpylbv7m36uvznwm4', 'type': 'user', 'uri': 'spotify:user:31uyanxdk2sgpylbv7m36uvznwm4', 'display_name': None, 'external_urls': {'spotify': 'https://open.spotify.com/user/31uyanxdk2sgpylbv7m36uvznwm4'}}, 'public': True, 'snapshot_id': 'AAAAATR2VyKeAw+nQFd+olf1GRW8yBrm', 'tracks': {'limit': 100, 'next': None, 'offset': 0, 'previous': None, 'href': 'https://api.spotify.com/v1/playlists/1o8t3vf79egbIgyXzct3kM/tracks', 'total': 0, 'items': []}}\n"
     ]
    }
   ],
   "source": [
    "print(my_playlist)"
   ]
  },
  {
   "cell_type": "code",
   "execution_count": 141,
   "id": "3f27343c-d087-498d-8306-7a2ad47924aa",
   "metadata": {},
   "outputs": [
    {
     "data": {
      "text/plain": [
       "{'snapshot_id': 'AAAAAnfknE9chDlPq2J90dlsv9MGd/Qy'}"
      ]
     },
     "execution_count": 141,
     "metadata": {},
     "output_type": "execute_result"
    }
   ],
   "source": [
    "sp.user_playlist_add_tracks(username, my_playlist['id'], song_uris)"
   ]
  },
  {
   "cell_type": "code",
   "execution_count": 146,
   "id": "0b4b5a67-9320-410d-8f79-2dae8330566c",
   "metadata": {},
   "outputs": [
    {
     "data": {
      "text/plain": [
       "True"
      ]
     },
     "execution_count": 146,
     "metadata": {},
     "output_type": "execute_result"
    }
   ],
   "source": [
    "webbrowser.open(my_playlist['external_urls']['spotify'])"
   ]
  },
  {
   "cell_type": "code",
   "execution_count": null,
   "id": "c68cc3cc-0266-4ecc-9cbc-a78101c531c4",
   "metadata": {},
   "outputs": [],
   "source": []
  }
 ],
 "metadata": {
  "kernelspec": {
   "display_name": "Python 3 (ipykernel)",
   "language": "python",
   "name": "python3"
  },
  "language_info": {
   "codemirror_mode": {
    "name": "ipython",
    "version": 3
   },
   "file_extension": ".py",
   "mimetype": "text/x-python",
   "name": "python",
   "nbconvert_exporter": "python",
   "pygments_lexer": "ipython3",
   "version": "3.12.7"
  }
 },
 "nbformat": 4,
 "nbformat_minor": 5
}
