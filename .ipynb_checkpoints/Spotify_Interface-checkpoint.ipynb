{
 "cells": [
  {
   "cell_type": "code",
   "execution_count": 67,
   "id": "720c65aa-9150-4ec3-8982-421aae0f0d3d",
   "metadata": {},
   "outputs": [],
   "source": [
    "import spotipy\n",
    "import json\n",
    "import webbrowser\n",
    "import urllib.request\n",
    "import spotipy.util as util"
   ]
  },
  {
   "cell_type": "code",
   "execution_count": 68,
   "id": "bbb94550-1010-4419-b6d6-aef15ebf9e7f",
   "metadata": {},
   "outputs": [
    {
     "name": "stdout",
     "output_type": "stream",
     "text": [
      "8b86b454f22f4210be0142556242910\n"
     ]
    }
   ],
   "source": [
    "with open('weather_key.txt','r') as weather_file:\n",
    "    weather_key = weather_file.read()\n",
    "\n",
    "print(weather_key)"
   ]
  },
  {
   "cell_type": "code",
   "execution_count": 69,
   "id": "b2d235bf-c6de-4d7f-a7d8-e77df22e9cc9",
   "metadata": {},
   "outputs": [],
   "source": [
    "url = f\"http://api.weatherapi.com/v1/current.json?key=8b86b454f22f4210be0142556242910&q=London&aqi=no\""
   ]
  },
  {
   "cell_type": "code",
   "execution_count": 70,
   "id": "9dcdf29e-80cb-4994-9bfc-5055e455e36a",
   "metadata": {},
   "outputs": [],
   "source": [
    "request= urllib.request.Request(url)\n",
    "response = urllib.request.urlopen(request)"
   ]
  },
  {
   "cell_type": "code",
   "execution_count": 71,
   "id": "36574496-b514-47b5-bba0-7e434e4e2acb",
   "metadata": {},
   "outputs": [
    {
     "name": "stdout",
     "output_type": "stream",
     "text": [
      "<http.client.HTTPResponse object at 0x000001DB630066E0>\n"
     ]
    }
   ],
   "source": [
    "print(response)"
   ]
  },
  {
   "cell_type": "code",
   "execution_count": 72,
   "id": "c3deed23-11db-4407-bcef-e581bf0b3c2a",
   "metadata": {},
   "outputs": [
    {
     "name": "stdout",
     "output_type": "stream",
     "text": [
      "{'location': {'name': 'London', 'region': 'City of London, Greater London', 'country': 'United Kingdom', 'lat': 51.5171, 'lon': -0.1062, 'tz_id': 'Europe/London', 'localtime_epoch': 1730218082, 'localtime': '2024-10-29 16:08'}, 'current': {'last_updated_epoch': 1730217600, 'last_updated': '2024-10-29 16:00', 'temp_c': 15.3, 'temp_f': 59.5, 'is_day': 1, 'condition': {'text': 'Overcast', 'icon': '//cdn.weatherapi.com/weather/64x64/day/122.png', 'code': 1009}, 'wind_mph': 3.4, 'wind_kph': 5.4, 'wind_degree': 271, 'wind_dir': 'W', 'pressure_mb': 1024.0, 'pressure_in': 30.24, 'precip_mm': 0.0, 'precip_in': 0.0, 'humidity': 82, 'cloud': 50, 'feelslike_c': 15.3, 'feelslike_f': 59.5, 'windchill_c': 14.7, 'windchill_f': 58.4, 'heatindex_c': 14.4, 'heatindex_f': 58.0, 'dewpoint_c': 10.0, 'dewpoint_f': 50.1, 'vis_km': 10.0, 'vis_miles': 6.0, 'uv': 0.1, 'gust_mph': 5.5, 'gust_kph': 8.9}}\n"
     ]
    }
   ],
   "source": [
    "weather_json = json.loads(response.read())\n",
    "print(weather_json)"
   ]
  },
  {
   "cell_type": "code",
   "execution_count": 73,
   "id": "008cbce5-60a7-4b66-b2e3-bd41f455bd22",
   "metadata": {},
   "outputs": [
    {
     "name": "stdout",
     "output_type": "stream",
     "text": [
      "Overcast\n"
     ]
    }
   ],
   "source": [
    "forecast = weather_json['current']['condition']['text']\n",
    "print(forecast)"
   ]
  },
  {
   "cell_type": "code",
   "execution_count": 74,
   "id": "47b830e6-7db8-4c83-af67-a190d29f9c35",
   "metadata": {},
   "outputs": [],
   "source": [
    "with open('spotify_keys.json', 'r') as spotify_file:\n",
    "    tokens = json.load(spotify_file)"
   ]
  },
  {
   "cell_type": "code",
   "execution_count": 75,
   "id": "47d5b017-954e-4383-9381-6e2057ecd7b6",
   "metadata": {},
   "outputs": [],
   "source": [
    "my_client_id = tokens['client_id']\n",
    "my_client_secret = tokens['client_secret']\n",
    "redirectURI = tokens['redirect']\n",
    "username = tokens['username']"
   ]
  },
  {
   "cell_type": "code",
   "execution_count": 76,
   "id": "96b95bf9-f761-4e57-a4ef-51a170ef29b9",
   "metadata": {},
   "outputs": [
    {
     "name": "stdin",
     "output_type": "stream",
     "text": [
      "Enter the URL you were redirected to:  https://www.google.com/?code=AQAdzg2pCUnbaivjPZk3KdxCc6FDLyhapvKzojN6jpqY3yNCZg8a9tsxYhuP7saDm9NRfsSZvO8LXP59cM_O_CevffLfDsTDpZGFfRrDgrWyS9ZFPeBIZoWOPC8AHCnEL-uI52sejHV8fHGsNgRNgSPaRpwiCFQeQWYAZFo4hzwYyLLXix19GTZoSw5UQxObQwNRVLoFIoaUjdijPx3IFwCxpWfTH55zJfMTMr2SlMlR3oJG0lO_11WgnDc8aD-_Kd0yYOb_49BI9c4X7wKNvfUlESexBGk\n"
     ]
    }
   ],
   "source": [
    "scope = 'user-read-private user-read-playback-state user-modify-playback-state playlist-modify-public'\n",
    "token = util.prompt_for_user_token(username, scope, client_id=my_client_id, client_secret=my_client_secret, redirect_uri=redirectURI)"
   ]
  },
  {
   "cell_type": "code",
   "execution_count": 78,
   "id": "937e2468-be21-4df2-996e-07f8c35f48b3",
   "metadata": {},
   "outputs": [],
   "source": [
    "sp = spotipy.Spotify(auth=token)"
   ]
  },
  {
   "cell_type": "code",
   "execution_count": 79,
   "id": "9aded69c-7e3c-43ec-a486-f02983ddf9e1",
   "metadata": {},
   "outputs": [
    {
     "name": "stdout",
     "output_type": "stream",
     "text": [
      "{'devices': [{'id': 'a12cb1712c6d8dbe182106535f96c0c982e20c5a', 'is_active': False, 'is_private_session': False, 'is_restricted': False, 'name': 'SOE-MYAT', 'supports_volume': True, 'type': 'Computer', 'volume_percent': 100}]}\n"
     ]
    }
   ],
   "source": [
    "devices = sp.devices()\n",
    "print(devices)"
   ]
  },
  {
   "cell_type": "code",
   "execution_count": 80,
   "id": "08115c00-2c31-4174-b352-4774f9b2678e",
   "metadata": {},
   "outputs": [],
   "source": [
    "track_results = sp.search(q=forecast, type='track', limit=50)"
   ]
  },
  {
   "cell_type": "code",
   "execution_count": null,
   "id": "4f100236-8a0a-455d-9c8d-0be7b49c969e",
   "metadata": {},
   "outputs": [],
   "source": []
  }
 ],
 "metadata": {
  "kernelspec": {
   "display_name": "Python 3 (ipykernel)",
   "language": "python",
   "name": "python3"
  },
  "language_info": {
   "codemirror_mode": {
    "name": "ipython",
    "version": 3
   },
   "file_extension": ".py",
   "mimetype": "text/x-python",
   "name": "python",
   "nbconvert_exporter": "python",
   "pygments_lexer": "ipython3",
   "version": "3.12.7"
  }
 },
 "nbformat": 4,
 "nbformat_minor": 5
}
