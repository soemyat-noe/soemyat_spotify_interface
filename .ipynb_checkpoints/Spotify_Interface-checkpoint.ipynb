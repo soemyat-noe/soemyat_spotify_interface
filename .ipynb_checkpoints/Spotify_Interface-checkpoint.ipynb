{
 "cells": [
  {
   "cell_type": "code",
   "execution_count": 85,
   "id": "720c65aa-9150-4ec3-8982-421aae0f0d3d",
   "metadata": {},
   "outputs": [],
   "source": [
    "import spotipy\n",
    "import json\n",
    "import webbrowser\n",
    "import urllib.request\n",
    "import spotipy.util as util"
   ]
  },
  {
   "cell_type": "code",
   "execution_count": 86,
   "id": "bbb94550-1010-4419-b6d6-aef15ebf9e7f",
   "metadata": {},
   "outputs": [
    {
     "name": "stdout",
     "output_type": "stream",
     "text": [
      "8b86b454f22f4210be0142556242910\n"
     ]
    }
   ],
   "source": [
    "with open('weather_key.txt','r') as weather_file:\n",
    "    weather_key = weather_file.read()\n",
    "\n",
    "print(weather_key)"
   ]
  },
  {
   "cell_type": "code",
   "execution_count": 87,
   "id": "b2d235bf-c6de-4d7f-a7d8-e77df22e9cc9",
   "metadata": {},
   "outputs": [],
   "source": [
    "url = f\"http://api.weatherapi.com/v1/current.json?key=8b86b454f22f4210be0142556242910&q=London&aqi=no\""
   ]
  },
  {
   "cell_type": "code",
   "execution_count": 88,
   "id": "9dcdf29e-80cb-4994-9bfc-5055e455e36a",
   "metadata": {},
   "outputs": [],
   "source": [
    "request= urllib.request.Request(url)\n",
    "response = urllib.request.urlopen(request)"
   ]
  },
  {
   "cell_type": "code",
   "execution_count": 89,
   "id": "36574496-b514-47b5-bba0-7e434e4e2acb",
   "metadata": {},
   "outputs": [
    {
     "name": "stdout",
     "output_type": "stream",
     "text": [
      "<http.client.HTTPResponse object at 0x000001DB630127D0>\n"
     ]
    }
   ],
   "source": [
    "print(response)"
   ]
  },
  {
   "cell_type": "code",
   "execution_count": 90,
   "id": "c3deed23-11db-4407-bcef-e581bf0b3c2a",
   "metadata": {},
   "outputs": [
    {
     "name": "stdout",
     "output_type": "stream",
     "text": [
      "{'location': {'name': 'London', 'region': 'City of London, Greater London', 'country': 'United Kingdom', 'lat': 51.5171, 'lon': -0.1062, 'tz_id': 'Europe/London', 'localtime_epoch': 1730218668, 'localtime': '2024-10-29 16:17'}, 'current': {'last_updated_epoch': 1730218500, 'last_updated': '2024-10-29 16:15', 'temp_c': 15.4, 'temp_f': 59.7, 'is_day': 1, 'condition': {'text': 'Partly cloudy', 'icon': '//cdn.weatherapi.com/weather/64x64/day/116.png', 'code': 1003}, 'wind_mph': 3.4, 'wind_kph': 5.4, 'wind_degree': 271, 'wind_dir': 'W', 'pressure_mb': 1025.0, 'pressure_in': 30.27, 'precip_mm': 0.0, 'precip_in': 0.0, 'humidity': 82, 'cloud': 75, 'feelslike_c': 15.4, 'feelslike_f': 59.7, 'windchill_c': 14.7, 'windchill_f': 58.4, 'heatindex_c': 14.4, 'heatindex_f': 58.0, 'dewpoint_c': 10.0, 'dewpoint_f': 50.1, 'vis_km': 10.0, 'vis_miles': 6.0, 'uv': 0.1, 'gust_mph': 5.5, 'gust_kph': 8.9}}\n"
     ]
    }
   ],
   "source": [
    "weather_json = json.loads(response.read())\n",
    "print(weather_json)"
   ]
  },
  {
   "cell_type": "code",
   "execution_count": 91,
   "id": "008cbce5-60a7-4b66-b2e3-bd41f455bd22",
   "metadata": {},
   "outputs": [
    {
     "name": "stdout",
     "output_type": "stream",
     "text": [
      "Partly cloudy\n"
     ]
    }
   ],
   "source": [
    "forecast = weather_json['current']['condition']['text']\n",
    "print(forecast)"
   ]
  },
  {
   "cell_type": "code",
   "execution_count": 92,
   "id": "47b830e6-7db8-4c83-af67-a190d29f9c35",
   "metadata": {},
   "outputs": [],
   "source": [
    "with open('spotify_keys.json', 'r') as spotify_file:\n",
    "    tokens = json.load(spotify_file)"
   ]
  },
  {
   "cell_type": "code",
   "execution_count": 93,
   "id": "47d5b017-954e-4383-9381-6e2057ecd7b6",
   "metadata": {},
   "outputs": [],
   "source": [
    "my_client_id = tokens['client_id']\n",
    "my_client_secret = tokens['client_secret']\n",
    "redirectURI = tokens['redirect']\n",
    "username = tokens['username']"
   ]
  },
  {
   "cell_type": "code",
   "execution_count": 94,
   "id": "96b95bf9-f761-4e57-a4ef-51a170ef29b9",
   "metadata": {},
   "outputs": [],
   "source": [
    "scope = 'user-read-private user-read-playback-state user-modify-playback-state playlist-modify-public'\n",
    "token = util.prompt_for_user_token(username, scope, client_id=my_client_id, client_secret=my_client_secret, redirect_uri=redirectURI)"
   ]
  },
  {
   "cell_type": "code",
   "execution_count": 95,
   "id": "937e2468-be21-4df2-996e-07f8c35f48b3",
   "metadata": {},
   "outputs": [],
   "source": [
    "sp = spotipy.Spotify(auth=token)"
   ]
  },
  {
   "cell_type": "code",
   "execution_count": 96,
   "id": "9aded69c-7e3c-43ec-a486-f02983ddf9e1",
   "metadata": {},
   "outputs": [
    {
     "name": "stdout",
     "output_type": "stream",
     "text": [
      "{'devices': [{'id': 'a12cb1712c6d8dbe182106535f96c0c982e20c5a', 'is_active': False, 'is_private_session': False, 'is_restricted': False, 'name': 'SOE-MYAT', 'supports_volume': True, 'type': 'Computer', 'volume_percent': 100}]}\n"
     ]
    }
   ],
   "source": [
    "devices = sp.devices()\n",
    "print(devices)"
   ]
  },
  {
   "cell_type": "code",
   "execution_count": 97,
   "id": "08115c00-2c31-4174-b352-4774f9b2678e",
   "metadata": {},
   "outputs": [],
   "source": [
    "track_results = sp.search(q=forecast, type='track', limit=50)"
   ]
  },
  {
   "cell_type": "code",
   "execution_count": 99,
   "id": "90a57263-65b4-4c42-b526-2dee8619198f",
   "metadata": {},
   "outputs": [],
   "source": [
    "song_data = track_results['tracks']['items']"
   ]
  },
  {
   "cell_type": "code",
   "execution_count": 100,
   "id": "a5712670-a3d7-41c1-9c1c-f0d2a1c27487",
   "metadata": {},
   "outputs": [
    {
     "name": "stdout",
     "output_type": "stream",
     "text": [
      "{'album': {'album_type': 'single', 'artists': [{'external_urls': {'spotify': 'https://open.spotify.com/artist/1N9n8MSxrr4Emhb566493b'}, 'href': 'https://api.spotify.com/v1/artists/1N9n8MSxrr4Emhb566493b', 'id': '1N9n8MSxrr4Emhb566493b', 'name': 'Morgan Page', 'type': 'artist', 'uri': 'spotify:artist:1N9n8MSxrr4Emhb566493b'}, {'external_urls': {'spotify': 'https://open.spotify.com/artist/4utLUGcTvOJFr6aqIJtYWV'}, 'href': 'https://api.spotify.com/v1/artists/4utLUGcTvOJFr6aqIJtYWV', 'id': '4utLUGcTvOJFr6aqIJtYWV', 'name': 'Skylar Grey', 'type': 'artist', 'uri': 'spotify:artist:4utLUGcTvOJFr6aqIJtYWV'}], 'available_markets': ['AR', 'AU', 'AT', 'BE', 'BO', 'BR', 'BG', 'CA', 'CL', 'CO', 'CR', 'CY', 'CZ', 'DK', 'DO', 'DE', 'EC', 'EE', 'SV', 'FI', 'FR', 'GR', 'GT', 'HN', 'HK', 'HU', 'IS', 'IE', 'IT', 'LV', 'LT', 'LU', 'MY', 'MT', 'MX', 'NL', 'NZ', 'NI', 'NO', 'PA', 'PY', 'PE', 'PH', 'PL', 'PT', 'SG', 'SK', 'ES', 'SE', 'CH', 'TW', 'TR', 'UY', 'US', 'GB', 'AD', 'LI', 'MC', 'ID', 'JP', 'TH', 'VN', 'RO', 'IL', 'ZA', 'SA', 'AE', 'BH', 'QA', 'OM', 'KW', 'EG', 'MA', 'DZ', 'TN', 'LB', 'JO', 'PS', 'IN', 'KZ', 'MD', 'UA', 'AL', 'BA', 'HR', 'ME', 'MK', 'RS', 'SI', 'KR', 'BD', 'PK', 'LK', 'GH', 'KE', 'NG', 'TZ', 'UG', 'AG', 'AM', 'BS', 'BB', 'BZ', 'BT', 'BW', 'BF', 'CV', 'CW', 'DM', 'FJ', 'GM', 'GE', 'GD', 'GW', 'GY', 'HT', 'JM', 'KI', 'LS', 'LR', 'MW', 'MV', 'ML', 'MH', 'FM', 'NA', 'NR', 'NE', 'PW', 'PG', 'PR', 'WS', 'SM', 'ST', 'SN', 'SC', 'SL', 'SB', 'KN', 'LC', 'VC', 'SR', 'TL', 'TO', 'TT', 'TV', 'VU', 'AZ', 'BN', 'BI', 'KH', 'CM', 'TD', 'KM', 'GQ', 'SZ', 'GA', 'GN', 'KG', 'LA', 'MO', 'MR', 'MN', 'NP', 'RW', 'TG', 'UZ', 'ZW', 'BJ', 'MG', 'MU', 'MZ', 'AO', 'CI', 'DJ', 'ZM', 'CD', 'CG', 'IQ', 'LY', 'TJ', 'VE', 'ET', 'XK'], 'external_urls': {'spotify': 'https://open.spotify.com/album/5yD5eFhqfWLTlgG3AUU7D6'}, 'href': 'https://api.spotify.com/v1/albums/5yD5eFhqfWLTlgG3AUU7D6', 'id': '5yD5eFhqfWLTlgG3AUU7D6', 'images': [{'height': 640, 'url': 'https://i.scdn.co/image/ab67616d0000b2733cccc270a8a2936b7aa5d74e', 'width': 640}, {'height': 300, 'url': 'https://i.scdn.co/image/ab67616d00001e023cccc270a8a2936b7aa5d74e', 'width': 300}, {'height': 64, 'url': 'https://i.scdn.co/image/ab67616d000048513cccc270a8a2936b7aa5d74e', 'width': 64}], 'name': 'Partly Cloudy (Extended Mix)', 'release_date': '2023-01-20', 'release_date_precision': 'day', 'total_tracks': 1, 'type': 'album', 'uri': 'spotify:album:5yD5eFhqfWLTlgG3AUU7D6'}, 'artists': [{'external_urls': {'spotify': 'https://open.spotify.com/artist/1N9n8MSxrr4Emhb566493b'}, 'href': 'https://api.spotify.com/v1/artists/1N9n8MSxrr4Emhb566493b', 'id': '1N9n8MSxrr4Emhb566493b', 'name': 'Morgan Page', 'type': 'artist', 'uri': 'spotify:artist:1N9n8MSxrr4Emhb566493b'}, {'external_urls': {'spotify': 'https://open.spotify.com/artist/4utLUGcTvOJFr6aqIJtYWV'}, 'href': 'https://api.spotify.com/v1/artists/4utLUGcTvOJFr6aqIJtYWV', 'id': '4utLUGcTvOJFr6aqIJtYWV', 'name': 'Skylar Grey', 'type': 'artist', 'uri': 'spotify:artist:4utLUGcTvOJFr6aqIJtYWV'}], 'available_markets': ['AR', 'AU', 'AT', 'BE', 'BO', 'BR', 'BG', 'CA', 'CL', 'CO', 'CR', 'CY', 'CZ', 'DK', 'DO', 'DE', 'EC', 'EE', 'SV', 'FI', 'FR', 'GR', 'GT', 'HN', 'HK', 'HU', 'IS', 'IE', 'IT', 'LV', 'LT', 'LU', 'MY', 'MT', 'MX', 'NL', 'NZ', 'NI', 'NO', 'PA', 'PY', 'PE', 'PH', 'PL', 'PT', 'SG', 'SK', 'ES', 'SE', 'CH', 'TW', 'TR', 'UY', 'US', 'GB', 'AD', 'LI', 'MC', 'ID', 'JP', 'TH', 'VN', 'RO', 'IL', 'ZA', 'SA', 'AE', 'BH', 'QA', 'OM', 'KW', 'EG', 'MA', 'DZ', 'TN', 'LB', 'JO', 'PS', 'IN', 'KZ', 'MD', 'UA', 'AL', 'BA', 'HR', 'ME', 'MK', 'RS', 'SI', 'KR', 'BD', 'PK', 'LK', 'GH', 'KE', 'NG', 'TZ', 'UG', 'AG', 'AM', 'BS', 'BB', 'BZ', 'BT', 'BW', 'BF', 'CV', 'CW', 'DM', 'FJ', 'GM', 'GE', 'GD', 'GW', 'GY', 'HT', 'JM', 'KI', 'LS', 'LR', 'MW', 'MV', 'ML', 'MH', 'FM', 'NA', 'NR', 'NE', 'PW', 'PG', 'PR', 'WS', 'SM', 'ST', 'SN', 'SC', 'SL', 'SB', 'KN', 'LC', 'VC', 'SR', 'TL', 'TO', 'TT', 'TV', 'VU', 'AZ', 'BN', 'BI', 'KH', 'CM', 'TD', 'KM', 'GQ', 'SZ', 'GA', 'GN', 'KG', 'LA', 'MO', 'MR', 'MN', 'NP', 'RW', 'TG', 'UZ', 'ZW', 'BJ', 'MG', 'MU', 'MZ', 'AO', 'CI', 'DJ', 'ZM', 'CD', 'CG', 'IQ', 'LY', 'TJ', 'VE', 'ET', 'XK'], 'disc_number': 1, 'duration_ms': 239156, 'explicit': False, 'external_ids': {'isrc': 'NLZ542202264'}, 'external_urls': {'spotify': 'https://open.spotify.com/track/3Rmdp5xiIMsdCGPtgdaLAD'}, 'href': 'https://api.spotify.com/v1/tracks/3Rmdp5xiIMsdCGPtgdaLAD', 'id': '3Rmdp5xiIMsdCGPtgdaLAD', 'is_local': False, 'name': 'Partly Cloudy - Extended Mix', 'popularity': 5, 'preview_url': 'https://p.scdn.co/mp3-preview/744a946b2a2b085dce285d719783da5ad3f0c1db?cid=70cdbcf9ddb149c8aacc5353daa89808', 'track_number': 1, 'type': 'track', 'uri': 'spotify:track:3Rmdp5xiIMsdCGPtgdaLAD'}\n"
     ]
    }
   ],
   "source": [
    "print(song_data[10])"
   ]
  },
  {
   "cell_type": "code",
   "execution_count": 101,
   "id": "27c8006f-309f-4de3-8491-798be6f450d5",
   "metadata": {},
   "outputs": [
    {
     "name": "stdout",
     "output_type": "stream",
     "text": [
      "['spotify:track:7q03KehhQQOGhAw11CVAEC', 'spotify:track:3eDLVjBYpqHBLoGgY5IOkx', 'spotify:track:5hhVwJPPEB0gUvcohcx90K', 'spotify:track:30ysBhx2WnUsUO5Yw3McXf', 'spotify:track:2Q9HT6TsMpIjFsGOKmNVFh', 'spotify:track:5sAWICxBCKDgjp3UQlh6JU', 'spotify:track:4TnFsiynA7DcJj63T5m5fW', 'spotify:track:2qS81sjwHn8tx905QhR8FY', 'spotify:track:2raCkomSwnhDTqZecWEBHR', 'spotify:track:1IqsMd1yTEb4Ywn7o7D4ia', 'spotify:track:3Rmdp5xiIMsdCGPtgdaLAD', 'spotify:track:07EVwKwievudIv2JBXIBZf', 'spotify:track:7cD74LHbyUoRKMvw0ybZHc', 'spotify:track:5IinzWqxnzoNAFkcPkjAcJ', 'spotify:track:2HddaKNHi39hHhjUOYV4pK', 'spotify:track:2VOl8RGHFgLuKrLk3Mpcmb', 'spotify:track:3pnNr9iQ93YtDX2O26fLo1', 'spotify:track:4HPckcgSQmxwMcAFOsJmGY', 'spotify:track:60dqFNs24vy6v1T6yxIjCt', 'spotify:track:51sciSNx3f1TEXcAmL06j9', 'spotify:track:2Xrh1w746kpmNpMV4SNySC', 'spotify:track:3R6abyqknjbGRmFrZDQJe0', 'spotify:track:1bbAC7ZNqLX23e8k4rKkvR', 'spotify:track:60kyyove8xQzqlG4xzgtME', 'spotify:track:3Et9ex6WrxoZBOE1EJrkIX', 'spotify:track:5jkB9NKroLBBVyyukqpDBq', 'spotify:track:0HNYT3r8DmuQlp37Bs9RbI', 'spotify:track:2fIhX68Y1P0xLfnJh160tk', 'spotify:track:2lu19gVDMaugwKkLUkKTDx', 'spotify:track:61uLswN0I1v3tXZchA3Q5B', 'spotify:track:0mA7zotmg2ZFMRALljdZsS', 'spotify:track:1J9iRjr6N6p7zb01342dye', 'spotify:track:3dn1Wlz9SNqiu1LYa86VeJ', 'spotify:track:0fNzU26XiTKY2lhmOpokgR', 'spotify:track:6RM7qpuvKgEGX78QhmHfWg', 'spotify:track:42GUapdCOGjpTk9ysk9Fzr', 'spotify:track:7rTG4TBax6vBcpbjSdAsLK', 'spotify:track:5qA6OI4Y8iLSF9e387r6Kb', 'spotify:track:0E0sCHEpgh93xYBZU2OAuI', 'spotify:track:3i6z9IBJ1XAuA0LwM8KERf', 'spotify:track:0BOR3s3orWnkLYnCHcsB62', 'spotify:track:4E2rXUbcF1zhZVzNzeVPGV', 'spotify:track:3C3F1scQRdhKRH1IBbszEE', 'spotify:track:78PkpB6GK6tKvYDfCGn69b', 'spotify:track:5KzPF3jOpmBXqUvp5zI8Eu', 'spotify:track:22hVKOwcOg9tCFzeYGAY4l', 'spotify:track:1ovSGebJaRKyLu40anmPAx', 'spotify:track:3X669cI3mLFk0RVmqVcp4d', 'spotify:track:6dKgLhsXcJRgBSnvjDwh64', 'spotify:track:5x3YSiZ6ncoS09oh4Chr6k']\n"
     ]
    }
   ],
   "source": [
    "song_uris = []\n",
    "for song in song_data:\n",
    "    song_uris.append(song['uri'])\n",
    "print(song_uris)"
   ]
  },
  {
   "cell_type": "code",
   "execution_count": null,
   "id": "70c6fffc-a4c6-45e6-ac97-c92dcdca7cb2",
   "metadata": {},
   "outputs": [],
   "source": [
    "my_playlist = spo.user_playlist_create(user=username, name=forecast, public=True"
   ]
  }
 ],
 "metadata": {
  "kernelspec": {
   "display_name": "Python 3 (ipykernel)",
   "language": "python",
   "name": "python3"
  },
  "language_info": {
   "codemirror_mode": {
    "name": "ipython",
    "version": 3
   },
   "file_extension": ".py",
   "mimetype": "text/x-python",
   "name": "python",
   "nbconvert_exporter": "python",
   "pygments_lexer": "ipython3",
   "version": "3.12.7"
  }
 },
 "nbformat": 4,
 "nbformat_minor": 5
}
